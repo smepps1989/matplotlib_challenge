{
 "cells": [
  {
   "attachments": {},
   "cell_type": "markdown",
   "metadata": {},
   "source": [
    "# Pymaceuticals Inc.\n",
    "---\n",
    "\n",
    "### Analysis\n",
    "\n",
    "- The drug Capomulin appears to be one of the drugs in this trial study where SCC tumors ended up being the smallest in the group next to those mice that were treated with Ramicane. There were also more timepoints observed, indicating that the mice being treated with Capomulin survived the whole trial compared to the other drugs that were being tested.\n",
    "\n",
    "- The test group being treated with Capomulin had a smaller variance compared to its counterpart test groups, indicating that the drug's results may be more consistent than the other drugs of interest, specifically Infubinol, and Ceftamin. They both had a higher variance among the observed final tumor volumes of the mice being treated with ther respective drugs.\n",
    "\n",
    "- One subject being treated with Capomulin, mouse i557, was observed to have its tumor decrease in size toward the beginning of the trial. However, as the trial progressed, the tumor did continue to increase in volume. A line chart was only created for this one mouse and to see if this is a trend, it is necessary to create more line charts to reveal it.\n",
    "\n",
    " "
   ]
  },
  {
   "cell_type": "code",
   "execution_count": null,
   "metadata": {},
   "outputs": [],
   "source": [
    "# Dependencies and Setup\n",
    "import matplotlib.pyplot as plt\n",
    "import pandas as pd\n",
    "import scipy.stats as st\n",
    "\n",
    "# Study data files\n",
    "mouse_metadata_path = \"data/Mouse_metadata.csv\"\n",
    "study_results_path = \"data/Study_results.csv\"\n",
    "\n",
    "# Read the mouse data and the study results\n",
    "mouse_metadata = pd.read_csv(mouse_metadata_path)\n",
    "study_results = pd.read_csv(study_results_path)\n",
    "\n",
    "# Combine the data into a single DataFrame\n",
    "mouse_results = pd.merge(mouse_metadata, study_results, on=\"Mouse ID\")\n",
    "mouse_results.head()\n",
    "\n",
    "# Display the data table for preview\n"
   ]
  },
  {
   "cell_type": "code",
   "execution_count": null,
   "metadata": {},
   "outputs": [],
   "source": [
    "# Checking the number of mice.\n",
    "len(mouse_results[\"Mouse ID\"].unique())"
   ]
  },
  {
   "cell_type": "code",
   "execution_count": null,
   "metadata": {},
   "outputs": [],
   "source": [
    "# Our data should be uniquely identified by Mouse ID and Timepoint\n",
    "# Get the duplicate mice by ID number that shows up for Mouse ID and Timepoint. \n",
    "duplicates = mouse_results.loc[mouse_results.duplicated(subset=[\"Mouse ID\", \"Timepoint\"]) == True, :]\n",
    "duplicates[\"Mouse ID\"]"
   ]
  },
  {
   "cell_type": "code",
   "execution_count": null,
   "metadata": {},
   "outputs": [],
   "source": [
    "# Optional: Get all the data for the duplicate mouse ID. \n",
    "duplicate_mouse = mouse_results.loc[mouse_results[\"Mouse ID\"] == \"g989\", :]\n",
    "duplicate_mouse"
   ]
  },
  {
   "cell_type": "code",
   "execution_count": null,
   "metadata": {},
   "outputs": [],
   "source": [
    "# Create a clean DataFrame by dropping the duplicate mouse by its ID.\n",
    "remove_g989 = mouse_results.loc[mouse_results[\"Mouse ID\"] != 'g989']\n",
    "remove_g989.head()"
   ]
  },
  {
   "cell_type": "code",
   "execution_count": null,
   "metadata": {},
   "outputs": [],
   "source": [
    "# Checking the number of mice in the clean DataFrame.\n",
    "len(remove_g989[\"Mouse ID\"].unique())"
   ]
  },
  {
   "cell_type": "markdown",
   "metadata": {},
   "source": [
    "## Summary Statistics"
   ]
  },
  {
   "cell_type": "code",
   "execution_count": null,
   "metadata": {},
   "outputs": [],
   "source": [
    "# Generate a summary statistics table of mean, median, variance, standard deviation, and SEM of the tumor volume for each regimen\n",
    "\n",
    "# Use groupby and summary statistical methods to calculate the following properties of each drug regimen: \n",
    "# mean, median, variance, standard deviation, and SEM of the tumor volume. \n",
    "\n",
    "mean = remove_g989.groupby(\"Drug Regimen\")[\"Tumor Volume (mm3)\"].mean()\n",
    "median = remove_g989.groupby(\"Drug Regimen\")[\"Tumor Volume (mm3)\"].median()\n",
    "variance = remove_g989.groupby(\"Drug Regimen\")[\"Tumor Volume (mm3)\"].var()\n",
    "std = remove_g989.groupby(\"Drug Regimen\")[\"Tumor Volume (mm3)\"].std()\n",
    "stderr = remove_g989.groupby(\"Drug Regimen\")[\"Tumor Volume (mm3)\"].sem()\n",
    "\n",
    "# Assemble the resulting series into a single summary DataFrame.\n",
    "summary_df = pd.DataFrame({\n",
    "\"Mean Tumor Volume\" : mean,\n",
    "\"Median Tumor Volume\" : median,\n",
    "\"Tumor Volume Variance\" : variance,\n",
    "\"Tumor Volume Std. Dev.\" : std,\n",
    "\"Tumor Std. Err\" : stderr\n",
    "})\n",
    "summary_df"
   ]
  },
  {
   "cell_type": "code",
   "execution_count": null,
   "metadata": {},
   "outputs": [],
   "source": [
    "# A more advanced method to generate a summary statistics table of mean, median, variance, standard deviation,\n",
    "# and SEM of the tumor volume for each regimen (only one method is required in the solution)\n",
    "\n",
    "# Using the aggregation method, produce the same summary statistics in a single line\n",
    "ad_summary=pd.DataFrame(remove_g989.groupby(\"Drug Regimen\")[\"Tumor Volume (mm3)\"].agg([\"mean\", \"median\", \"var\", \"std\", \"sem\"]))\n",
    "ad_summary"
   ]
  },
  {
   "cell_type": "markdown",
   "metadata": {},
   "source": [
    "## Bar and Pie Charts"
   ]
  },
  {
   "cell_type": "code",
   "execution_count": null,
   "metadata": {},
   "outputs": [],
   "source": [
    "# Generate a bar plot showing the total number of rows (Mouse ID/Timepoints) for each drug regimen using Pandas.\n",
    "counts = remove_g989[\"Drug Regimen\"].value_counts()\n",
    "counts.plot(kind=\"bar\")\n",
    "counts_plot = plt.ylabel(\"# Observed Mouse Timepoints\")\n",
    "plt.show()"
   ]
  },
  {
   "cell_type": "code",
   "execution_count": null,
   "metadata": {},
   "outputs": [],
   "source": [
    "# Generate a bar plot showing the total number of rows (Mouse ID/Timepoints) for each drug regimen using pyplot.\n",
    "pandas = plt.bar(counts.index, counts)\n",
    "plt.xlabel(\"Drug Regimen\")\n",
    "plt.ylabel(\"# Observed Mouse Timepoints\")\n",
    "plt.xticks(rotation=90)\n",
    "plt.show()"
   ]
  },
  {
   "cell_type": "code",
   "execution_count": null,
   "metadata": {},
   "outputs": [],
   "source": [
    "# Generate a pie plot showing the distribution of female versus male mice using Pandas\n",
    "sex = remove_g989.groupby([\"Sex\"])[\"Mouse ID\"].count()\n",
    "sex.plot(kind=\"pie\", autopct=\"%1.1f%%\")\n",
    "plt.show()"
   ]
  },
  {
   "cell_type": "code",
   "execution_count": null,
   "metadata": {},
   "outputs": [],
   "source": [
    "# Generate a pie plot showing the distribution of female versus male mice using pyplot\n",
    "plt.pie(sex,labels=sex.index, autopct=\"%1.1f%%\")\n",
    "plt.show()"
   ]
  },
  {
   "cell_type": "markdown",
   "metadata": {},
   "source": [
    "## Quartiles, Outliers and Boxplots"
   ]
  },
  {
   "cell_type": "code",
   "execution_count": null,
   "metadata": {},
   "outputs": [],
   "source": [
    "# Calculate the final tumor volume of each mouse across four of the treatment regimens:  \n",
    "# Capomulin, Ramicane, Infubinol, and Ceftamin\n",
    "\n",
    "# Start by getting the last (greatest) timepoint for each mouse\n",
    "last_timepoint = remove_g989.groupby(\"Mouse ID\")[\"Timepoint\"].max()\n",
    "last_timepoint_df = pd.DataFrame(last_timepoint, index=last_timepoint.index)\n",
    "\n",
    "# Merge this group df with the original DataFrame to get the tumor volume at the last timepoint\n",
    "merged_df = pd.merge(last_timepoint, remove_g989, on=[\"Mouse ID\", \"Timepoint\"], how=\"inner\")\n",
    "merged_df = merged_df.loc[(merged_df[\"Drug Regimen\"] == 'Capomulin') \\\n",
    "                        | (merged_df[\"Drug Regimen\"] == 'Ramicane') \\\n",
    "                        | (merged_df[\"Drug Regimen\"] == 'Infubinol') \\\n",
    "                        | (merged_df[\"Drug Regimen\"] =='Ceftamin') ]\n",
    "merged_df.head()"
   ]
  },
  {
   "cell_type": "code",
   "execution_count": null,
   "metadata": {},
   "outputs": [],
   "source": [
    "# Put treatments into a list for for loop (and later for plot labels)\n",
    "treatment = [\"Capomulin\", \"Ramicane\", \"Infubinol\", \"Ceftamin\"]\n",
    "\n",
    "# Create empty list to fill with tumor vol data (for plotting)\n",
    "tumor_volume_final = []\n",
    "    \n",
    "# Locate the rows which contain mice on each drug and get the tumor volumes\n",
    "# Calculate the IQR and quantitatively determine if there are any potential outliers. \n",
    "for drug in treatment:\n",
    "    volume = merged_df[\"Tumor Volume (mm3)\"][merged_df[\"Drug Regimen\"] == drug]\n",
    "    quartiles = volume.quantile([0.25, 0.5, 0.75])\n",
    "    firstq = quartiles[0.25]\n",
    "    thirdq = quartiles[0.75]\n",
    "    iqr = thirdq - firstq\n",
    "\n",
    "    # Determine outliers using upper and lower bounds\n",
    "    outliers = []\n",
    "    for vol in volume:\n",
    "        if (vol > thirdq + (1.5 * iqr)) or (vol < (firstq - 1.5 * iqr)):\n",
    "            outliers.append(vol)\n",
    "    print(f'{drug}\\'s potential outliers are {outliers}.')\n",
    "    tumor_volume_final.append(tuple(volume))"
   ]
  },
  {
   "cell_type": "code",
   "execution_count": null,
   "metadata": {},
   "outputs": [],
   "source": [
    "# Generate a box plot that shows the distribution of the tumor volume for each treatment group.\n",
    "plt.boxplot(tumor_volume_final, flierprops={\"markerfacecolor\":\"red\", \"markersize\":12})\n",
    "plt.ylabel(\"Final Tumor Volume (mm3)\")\n",
    "plt.xlabel(\"Treatment\")\n",
    "ticks = [i + 1 for i in range(len(treatment))]\n",
    "plt.xticks(ticks, labels=treatment)\n",
    "plt.show()"
   ]
  },
  {
   "cell_type": "markdown",
   "metadata": {},
   "source": [
    "## Line and Scatter Plots"
   ]
  },
  {
   "cell_type": "code",
   "execution_count": null,
   "metadata": {},
   "outputs": [],
   "source": [
    "# Generate a line plot of tumor volume vs. time point for a single mouse treated with Capomulin\n",
    "# Create df of all mice treated with Capomulin to plot\n",
    "capomulin = remove_g989[remove_g989[\"Drug Regimen\"] == 'Capomulin']\n",
    "\n",
    "# Create df for chosen mouse\n",
    "mouse_i557 = capomulin.loc[capomulin[\"Mouse ID\"] == \"i557\"]\n",
    "\n",
    "# Define dimension and metrics for i557\n",
    "time = mouse_i557[\"Timepoint\"]\n",
    "tumor_volume = mouse_i557[\"Tumor Volume (mm3)\"]\n",
    "\n",
    "# Plot and customize line chart\n",
    "plt.plot(time, tumor_volume)\n",
    "plt.xlim(0, max(time))\n",
    "plt.xlabel(\"Timepoint (Days)\")\n",
    "plt.ylabel(\"Tumor Volume (mm3)\")\n",
    "plt.title(\"Capomulin Treatment of Mouse i557\")\n",
    "plt.show()"
   ]
  },
  {
   "cell_type": "code",
   "execution_count": null,
   "metadata": {},
   "outputs": [],
   "source": [
    "# Generate a scatter plot of mouse weight vs. the average observed tumor volume for the entire Capomulin regimen\n",
    "# Isolate weight of mouse and calculate tumor volume of each\n",
    "mouse_weight = capomulin.groupby(\"Mouse ID\")[\"Weight (g)\"].max()\n",
    "avg_tumor_weight = capomulin.groupby(\"Mouse ID\")[\"Tumor Volume (mm3)\"].mean()\n",
    "\n",
    "# Create scatterplot of avg. tumor vol by mouse weight\n",
    "plt.scatter(mouse_weight, avg_tumor_weight)\n",
    "plt.xlabel(\"Mouse Weight (g)\")\n",
    "plt.ylabel(\"Avg. Tumor Volume (mm3)\")\n",
    "plt.title(\"Avg. Tumor Volume by Mouse Weight\")\n",
    "plt.show()"
   ]
  },
  {
   "cell_type": "markdown",
   "metadata": {},
   "source": [
    "## Correlation and Regression"
   ]
  },
  {
   "cell_type": "code",
   "execution_count": null,
   "metadata": {},
   "outputs": [],
   "source": [
    "# Calculate the correlation coefficient and a linear regression model \n",
    "# for mouse weight and average observed tumor volume for the entire Capomulin regimen\n",
    "slope, intercept, r_value, p_value, stderr = st.linregress(mouse_weight, avg_tumor_weight)\n",
    "line = (slope * mouse_weight) + intercept\n",
    "\n",
    "plt.scatter(mouse_weight, avg_tumor_weight)\n",
    "plt.plot(mouse_weight, line, color = \"red\")\n",
    "plt.xlabel(\"Mouse Weight (g)\")\n",
    "plt.ylabel(\"Avg. Tumor Volume (mm3)\")\n",
    "plt.title(\"Avg. Tumor Volume by Mouse Weight\")\n",
    "plt.show()\n",
    "\n",
    "print(f'The correlation coefficient between mouse weight and average mouse is {round(r_value,2)}.')"
   ]
  }
 ],
 "metadata": {
  "anaconda-cloud": {},
  "kernelspec": {
   "display_name": "PythonData",
   "language": "python",
   "name": "python3"
  },
  "language_info": {
   "codemirror_mode": {
    "name": "ipython",
    "version": 3
   },
   "file_extension": ".py",
   "mimetype": "text/x-python",
   "name": "python",
   "nbconvert_exporter": "python",
   "pygments_lexer": "ipython3",
   "version": "3.11.5"
  }
 },
 "nbformat": 4,
 "nbformat_minor": 4
}
